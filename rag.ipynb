{
 "cells": [
  {
   "cell_type": "code",
   "execution_count": 9,
   "id": "66eff810",
   "metadata": {},
   "outputs": [],
   "source": [
    "from langchain_community.document_loaders import PyPDFLoader\n",
    "loader=PyPDFLoader(\"STW_4A2_Copyright_Notice.pdf\")"
   ]
  },
  {
   "cell_type": "code",
   "execution_count": 10,
   "id": "bab7e53f",
   "metadata": {},
   "outputs": [
    {
     "data": {
      "text/plain": [
       "[Document(metadata={'producer': 'Microsoft® PowerPoint® 2019', 'creator': 'Microsoft® PowerPoint® 2019', 'creationdate': '2024-03-02T10:20:27+05:30', 'title': 'STRUCTURE OF SCIENTIFIC DOCUMENTS', 'author': '105076', 'moddate': '2024-03-02T10:20:27+05:30', 'source': 'STW_4A2_Copyright_Notice.pdf', 'total_pages': 12, 'page': 0, 'page_label': '1'}, page_content='STRUCTURE OF \\nSCIENTIFIC DOCUMENTS\\nCOPYRIGHT NOTICE\\nSTW \\nEX20003\\nUNIT 04'),\n",
       " Document(metadata={'producer': 'Microsoft® PowerPoint® 2019', 'creator': 'Microsoft® PowerPoint® 2019', 'creationdate': '2024-03-02T10:20:27+05:30', 'title': 'STRUCTURE OF SCIENTIFIC DOCUMENTS', 'author': '105076', 'moddate': '2024-03-02T10:20:27+05:30', 'source': 'STW_4A2_Copyright_Notice.pdf', 'total_pages': 12, 'page': 1, 'page_label': '2'}, page_content='INTELLECTUAL PROPERTY RIGHTS\\n\\uf095 According to World Intellectual Property Organization, \\nIntellectual property refers to creations of mind; \\ninventions; literary and artistic works; and symbols, names \\nand images used in commerce\\n\\uf095 India is a signatory to Agreement on Trade Related \\nIntellectual Property Rights (TRIPS)\\n\\uf095 It has promulgated its own Acts\\n\\uf096Copyright (Copyright Act, 2012)\\n\\uf096Patents (Patents Act, 1970; Patents Amendment Act 2005)\\n\\uf096Design (Designs Act, 2000)\\n\\uf096Trademark (Trade Marks Act, 1999)'),\n",
       " Document(metadata={'producer': 'Microsoft® PowerPoint® 2019', 'creator': 'Microsoft® PowerPoint® 2019', 'creationdate': '2024-03-02T10:20:27+05:30', 'title': 'STRUCTURE OF SCIENTIFIC DOCUMENTS', 'author': '105076', 'moddate': '2024-03-02T10:20:27+05:30', 'source': 'STW_4A2_Copyright_Notice.pdf', 'total_pages': 12, 'page': 2, 'page_label': '3'}, page_content='WHAT \\nIS \\nCOPYRIGHT?\\n\\uf095 Copyright protects original tangible expression contained in \\nan intellectual work used to express an idea, or describe a \\nprocess, fact, or discovery e. g. book, article, paragraph, \\npoem, painting, lecture, database, computer program, \\nfigure and table, drama, film, recording, and any other \\noriginal literary, dramatic, musical or artistic work\\n\\uf095 Copyright is a ‘bundle’ of rights:\\n\\uf096 Right to reproduce the work\\n\\uf096 Right to distribute copies of the work to public\\n\\uf096 Right to make derivative works such as translation, \\nabridgement, dramatization, or other adaptations\\n\\uf096 Right to perform and display the work publicly\\n\\uf095 Rights belong to author of work, not to creator\\n\\uf095 Author holds copyright up to 60 years after he/ she expires'),\n",
       " Document(metadata={'producer': 'Microsoft® PowerPoint® 2019', 'creator': 'Microsoft® PowerPoint® 2019', 'creationdate': '2024-03-02T10:20:27+05:30', 'title': 'STRUCTURE OF SCIENTIFIC DOCUMENTS', 'author': '105076', 'moddate': '2024-03-02T10:20:27+05:30', 'source': 'STW_4A2_Copyright_Notice.pdf', 'total_pages': 12, 'page': 3, 'page_label': '4'}, page_content='CREATOR \\nAND \\nAUTHOR\\n\\uf095 When an employed person creates something as part of their \\nwork, then employee is ‘creator’, and employer is ‘author’ of \\nwork\\n\\uf095 Hence, copyright rests with employer\\n\\uf095 For literary, dramatic or artistic work, including photograph, \\npainting or portrait, created during employment or under \\ncontract, for publication in newspaper, magazine or similar \\nperiodical, proprietor of such publication shall be first owner \\nof copyright\\n\\uf095 However, such ownership will remain valid only publishing or \\nreproducing the work in a publication\\n\\uf095 For all other purposes, copyright shall remain with author of \\nwork\\n\\uf095 Copyright in any work created on commissioned basis i. e. \\nwork done by an independent contractor, shall remain with \\ncreator, unless there is an agreement to the contrary'),\n",
       " Document(metadata={'producer': 'Microsoft® PowerPoint® 2019', 'creator': 'Microsoft® PowerPoint® 2019', 'creationdate': '2024-03-02T10:20:27+05:30', 'title': 'STRUCTURE OF SCIENTIFIC DOCUMENTS', 'author': '105076', 'moddate': '2024-03-02T10:20:27+05:30', 'source': 'STW_4A2_Copyright_Notice.pdf', 'total_pages': 12, 'page': 4, 'page_label': '5'}, page_content='UNIVERSALITY \\nOF \\nCOPYRIGHT\\n\\uf095 India is a member of Berne Convention and \\nUniversal Copyright Convention \\n\\uf095 Government of India passed International \\nCopyright Order, 1958 \\n\\uf095 Any work first published in any country, which \\nis a member of any of the above conventions, is \\ngranted same treatment as if it was first \\npublished in India'),\n",
       " Document(metadata={'producer': 'Microsoft® PowerPoint® 2019', 'creator': 'Microsoft® PowerPoint® 2019', 'creationdate': '2024-03-02T10:20:27+05:30', 'title': 'STRUCTURE OF SCIENTIFIC DOCUMENTS', 'author': '105076', 'moddate': '2024-03-02T10:20:27+05:30', 'source': 'STW_4A2_Copyright_Notice.pdf', 'total_pages': 12, 'page': 5, 'page_label': '6'}, page_content='COPYRIGHT \\nNOTICE\\n\\uf095 ‘Copyright notice’ consists of three parts:\\n\\uf095 Symbol © or the word ‘copyright’\\n\\uf095 Year of publication\\n\\uf095 Name of copyright owner\\n\\uf095 Phrase ‘All rights reserved’ is sometimes included in \\ncopyright notice e. g.\\n© 2017 Nihar Ranjan Sahoo. All Rights Reserved.'),\n",
       " Document(metadata={'producer': 'Microsoft® PowerPoint® 2019', 'creator': 'Microsoft® PowerPoint® 2019', 'creationdate': '2024-03-02T10:20:27+05:30', 'title': 'STRUCTURE OF SCIENTIFIC DOCUMENTS', 'author': '105076', 'moddate': '2024-03-02T10:20:27+05:30', 'source': 'STW_4A2_Copyright_Notice.pdf', 'total_pages': 12, 'page': 6, 'page_label': '7'}, page_content='COPYRIGHT \\nREGISTRATION\\n\\uf095 Registration is not a prerequisite for acquiring \\ncopyright in a work \\n\\uf095 Copyright in work is created when the work is \\ncreated and given material form, provided it is \\noriginal\\n\\uf095 Copyright Act provides for a copyright \\nregistration procedure'),\n",
       " Document(metadata={'producer': 'Microsoft® PowerPoint® 2019', 'creator': 'Microsoft® PowerPoint® 2019', 'creationdate': '2024-03-02T10:20:27+05:30', 'title': 'STRUCTURE OF SCIENTIFIC DOCUMENTS', 'author': '105076', 'moddate': '2024-03-02T10:20:27+05:30', 'source': 'STW_4A2_Copyright_Notice.pdf', 'total_pages': 12, 'page': 7, 'page_label': '8'}, page_content='LICENSING \\nOF \\nRIGHTS\\n\\uf095 Author may transfer copyright in its entirety or a few of \\nits four component rights by ‘licensing’ or ‘assigning’  \\n\\uf095 Separate licenses may be given for different \\ngeographically dispersed regions, different times, or for \\ndifferent media\\n\\uf095 Licenses may be ‘exclusive’ or ‘non-exclusive’;  exclusive \\nlicensee of a right can sublicense others, whereas a non-\\nexclusive licensee cannot\\n\\uf095 Author has right to (a) claim authorship of work; and (b) \\nrestrain or claim damages with respect to any distortion, \\nmutilation, modification, or other act in relation to said \\nwork, if such acts are prejudicial to author’s repute\\n\\uf095 Right against distortion is available even after expiry of \\nterm of copyright'),\n",
       " Document(metadata={'producer': 'Microsoft® PowerPoint® 2019', 'creator': 'Microsoft® PowerPoint® 2019', 'creationdate': '2024-03-02T10:20:27+05:30', 'title': 'STRUCTURE OF SCIENTIFIC DOCUMENTS', 'author': '105076', 'moddate': '2024-03-02T10:20:27+05:30', 'source': 'STW_4A2_Copyright_Notice.pdf', 'total_pages': 12, 'page': 8, 'page_label': '9'}, page_content='TRANSFER OF \\nCOPYRIGHTS \\nOF PAPERS \\nTO \\nPUBLISHERS\\n\\uf095 When a ‘copyright transfer form’ is signed, \\npublisher can license subsidiary rights to other \\npublishers and grant permission to other \\npublishers and authors to use portions of the \\nwork in their own publications  \\n\\uf095 Also, author cannot include the work in their \\nfuture work (including thesis) without publisher’s \\npermission, unless otherwise mentioned \\nexplicitly in copyright transfer form'),\n",
       " Document(metadata={'producer': 'Microsoft® PowerPoint® 2019', 'creator': 'Microsoft® PowerPoint® 2019', 'creationdate': '2024-03-02T10:20:27+05:30', 'title': 'STRUCTURE OF SCIENTIFIC DOCUMENTS', 'author': '105076', 'moddate': '2024-03-02T10:20:27+05:30', 'source': 'STW_4A2_Copyright_Notice.pdf', 'total_pages': 12, 'page': 9, 'page_label': '10'}, page_content='FAIR USE \\nPRINCIPLE\\n\\uf095 Fair use is copying of copyrighted material for limited and \\n‘transformative’ purpose, such as comment, criticism, news \\nreport, parody, teaching, and research\\n\\uf095 ‘Transformative’ use is not illegal but not well defined\\n\\uf095 Four considerations:\\n(i) Purpose and character of use (commercial use is not fair \\nuse)\\n(ii) Nature of copyrighted work (facts and ideas are not \\ncopyrighted)\\n(iii) Amount and substantiality (minor violation of theme is not \\nfair use)\\n(iv) Effect on work’s value (if the work is adversely affected, it \\nis not fair use)'),\n",
       " Document(metadata={'producer': 'Microsoft® PowerPoint® 2019', 'creator': 'Microsoft® PowerPoint® 2019', 'creationdate': '2024-03-02T10:20:27+05:30', 'title': 'STRUCTURE OF SCIENTIFIC DOCUMENTS', 'author': '105076', 'moddate': '2024-03-02T10:20:27+05:30', 'source': 'STW_4A2_Copyright_Notice.pdf', 'total_pages': 12, 'page': 10, 'page_label': '11'}, page_content='HONEST \\nUSAGE OF \\nSOFTWARE \\n\\uf095 Acknowledge software package used in the work\\n\\uf095 Cite source when computer programs written by others \\nare used\\n\\uf095 If existing codes are modified, clearly mention type and \\nextent of modifications done\\n\\uf095 Minor modification in existing code or renaming of some \\ncode variables does not amount to original research \\ncontribution\\n\\uf095 Knowingly using an infringed copy of computer program \\nis a punishable offence'),\n",
       " Document(metadata={'producer': 'Microsoft® PowerPoint® 2019', 'creator': 'Microsoft® PowerPoint® 2019', 'creationdate': '2024-03-02T10:20:27+05:30', 'title': 'STRUCTURE OF SCIENTIFIC DOCUMENTS', 'author': '105076', 'moddate': '2024-03-02T10:20:27+05:30', 'source': 'STW_4A2_Copyright_Notice.pdf', 'total_pages': 12, 'page': 11, 'page_label': '12'}, page_content='THANK YOU!')]"
      ]
     },
     "execution_count": 10,
     "metadata": {},
     "output_type": "execute_result"
    }
   ],
   "source": [
    "doc=loader.load()\n",
    "doc"
   ]
  },
  {
   "cell_type": "code",
   "execution_count": 11,
   "id": "44b18b20",
   "metadata": {},
   "outputs": [],
   "source": [
    "from langchain.text_splitter import RecursiveCharacterTextSplitter\n",
    "import tiktoken\n",
    "\n",
    "encoding=tiktoken.get_encoding(\"cl100k_base\")\n",
    "\n",
    "def token_len(text: str) -> int:\n",
    "    return len(encoding.encode(text))\n",
    "\n",
    "splitter=RecursiveCharacterTextSplitter(\n",
    "    chunk_size=300,\n",
    "    chunk_overlap=50,\n",
    "    length_function=token_len,\n",
    "    keep_separator=True,\n",
    "    add_start_index=True,\n",
    "    strip_whitespace=True\n",
    ")\n",
    "\n",
    "chunks=splitter.split_documents(doc)"
   ]
  },
  {
   "cell_type": "code",
   "execution_count": 12,
   "id": "8151dda6",
   "metadata": {},
   "outputs": [],
   "source": [
    "from langchain_community.embeddings import HuggingFaceEmbeddings\n",
    "from langchain.vectorstores import Chroma\n",
    "\n",
    "embedding_func = HuggingFaceEmbeddings(model_name=\"BAAI/bge-base-en-v1.5\")\n",
    "\n",
    "db=Chroma.from_documents(\n",
    "    documents=chunks,\n",
    "    embedding=embedding_func\n",
    ")"
   ]
  },
  {
   "cell_type": "code",
   "execution_count": 20,
   "id": "e36e27db",
   "metadata": {},
   "outputs": [
    {
     "name": "stdout",
     "output_type": "stream",
     "text": [
      "FAIR USE \n",
      "PRINCIPLE\n",
      " Fair use is copying of copyrighted material for limited and \n",
      "‘transformative’ purpose, such as comment, criticism, news \n",
      "report, parody, teaching, and research\n",
      " ‘Transformative’ use is not illegal but not well defined\n",
      " Four considerations:\n",
      "(i) Purpose and character of use (commercial use is not fair \n",
      "use)\n",
      "(ii) Nature of copyrighted work (facts and ideas are not \n",
      "copyrighted)\n",
      "(iii) Amount and substantiality (minor violation of theme is not \n",
      "fair use)\n",
      "(iv) Effect on work’s value (if the work is adversely affected, it \n",
      "is not fair use)\n",
      "\n",
      "FAIR USE \n",
      "PRINCIPLE\n",
      " Fair use is copying of copyrighted material for limited and \n",
      "‘transformative’ purpose, such as comment, criticism, news \n",
      "report, parody, teaching, and research\n",
      " ‘Transformative’ use is not illegal but not well defined\n",
      " Four considerations:\n",
      "(i) Purpose and character of use (commercial use is not fair \n",
      "use)\n",
      "(ii) Nature of copyrighted work (facts and ideas are not \n",
      "copyrighted)\n",
      "(iii) Amount and substantiality (minor violation of theme is not \n",
      "fair use)\n",
      "(iv) Effect on work’s value (if the work is adversely affected, it \n",
      "is not fair use)\n",
      "\n",
      "HONEST \n",
      "USAGE OF \n",
      "SOFTWARE \n",
      " Acknowledge software package used in the work\n",
      " Cite source when computer programs written by others \n",
      "are used\n",
      " If existing codes are modified, clearly mention type and \n",
      "extent of modifications done\n",
      " Minor modification in existing code or renaming of some \n",
      "code variables does not amount to original research \n",
      "contribution\n",
      " Knowingly using an infringed copy of computer program \n",
      "is a punishable offence\n",
      "\n",
      "HONEST \n",
      "USAGE OF \n",
      "SOFTWARE \n",
      " Acknowledge software package used in the work\n",
      " Cite source when computer programs written by others \n",
      "are used\n",
      " If existing codes are modified, clearly mention type and \n",
      "extent of modifications done\n",
      " Minor modification in existing code or renaming of some \n",
      "code variables does not amount to original research \n",
      "contribution\n",
      " Knowingly using an infringed copy of computer program \n",
      "is a punishable offence\n"
     ]
    }
   ],
   "source": [
    "query = \"what are the fair use principles or considerations\"\n",
    "docs = db.similarity_search(query)\n",
    "\n",
    "# Extract and combine the page content\n",
    "response_text = \"\\n\\n\".join([doc.page_content.strip() for doc in docs])\n",
    "\n",
    "print(response_text)"
   ]
  }
 ],
 "metadata": {
  "kernelspec": {
   "display_name": "venv",
   "language": "python",
   "name": "python3"
  },
  "language_info": {
   "codemirror_mode": {
    "name": "ipython",
    "version": 3
   },
   "file_extension": ".py",
   "mimetype": "text/x-python",
   "name": "python",
   "nbconvert_exporter": "python",
   "pygments_lexer": "ipython3",
   "version": "3.13.4"
  }
 },
 "nbformat": 4,
 "nbformat_minor": 5
}
